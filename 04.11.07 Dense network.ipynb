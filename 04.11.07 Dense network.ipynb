{
 "cells": [
  {
   "cell_type": "markdown",
   "id": "79740bb8-0f78-4704-b440-3ad29ae079be",
   "metadata": {},
   "source": [
    "# 4.11.07 Dense network"
   ]
  },
  {
   "cell_type": "markdown",
   "id": "918063db-6d25-43b1-aba4-6760a447f841",
   "metadata": {},
   "source": [
    "### Load data"
   ]
  },
  {
   "cell_type": "code",
   "execution_count": 1,
   "id": "5ba6f5a2-6529-4f88-aa1f-c79c0c230023",
   "metadata": {},
   "outputs": [],
   "source": [
    "# import commands\n",
    "import numpy as np\n",
    "import pandas as pd\n",
    "%matplotlib inline\n",
    "import matplotlib.pyplot as plt"
   ]
  },
  {
   "cell_type": "code",
   "execution_count": 2,
   "id": "3b4413fb-81f5-43ec-957d-bdb0e532f9d4",
   "metadata": {},
   "outputs": [],
   "source": [
    "# Load the train features npz file\n",
    "with np.load(\"train_features.npz\", allow_pickle=False) as tr:\n",
    "    # Load the arrays\n",
    "    tr_features=tr[\"tr_features\"]"
   ]
  },
  {
   "cell_type": "code",
   "execution_count": 3,
   "id": "48f04968-4fb0-4a27-aef6-74a0ba851713",
   "metadata": {},
   "outputs": [],
   "source": [
    "# Load the train batch npz file\n",
    "with np.load(\"train_batch.npz\", allow_pickle=False) as tr:\n",
    "    # Load the arrays\n",
    "    tr_batch_imgs=tr[\"tr_batch_imgs\"], \n",
    "    tr_batch_labels=tr[\"tr_batch_labels\"]"
   ]
  },
  {
   "cell_type": "code",
   "execution_count": 4,
   "id": "722c89c1-3994-4297-9631-37e8123e8eea",
   "metadata": {},
   "outputs": [],
   "source": [
    "# Load the test features npz file\n",
    "with np.load(\"test_features.npz\", allow_pickle=False) as te:\n",
    "    # Load the arrays\n",
    "    te_features=te[\"te_features\"]"
   ]
  },
  {
   "cell_type": "code",
   "execution_count": 5,
   "id": "bcb2bdf9-c416-47ea-b625-994d7f27b781",
   "metadata": {},
   "outputs": [],
   "source": [
    "# Load the test batch npz file\n",
    "with np.load(\"test_batch.npz\", allow_pickle=False) as te:\n",
    "    # Load the arrays\n",
    "    te_batch_imgs=te[\"te_batch_imgs\"], \n",
    "    te_batch_labels=te[\"te_batch_labels\"]"
   ]
  },
  {
   "cell_type": "code",
   "execution_count": 6,
   "id": "0d06c521-e291-4f0b-9eb9-5c27ffff63aa",
   "metadata": {},
   "outputs": [],
   "source": [
    "# Load the validation features npz file\n",
    "with np.load(\"valid_features.npz\", allow_pickle=False) as vl:\n",
    "    # Load the arrays\n",
    "    vl_features=vl[\"vl_features\"]"
   ]
  },
  {
   "cell_type": "code",
   "execution_count": 7,
   "id": "58d42fa6-22e3-4459-ac0e-36ddd49fcdea",
   "metadata": {},
   "outputs": [],
   "source": [
    "# Load the validation batch npz file\n",
    "with np.load(\"valid_batch.npz\", allow_pickle=False) as vl:\n",
    "    # Load the arrays\n",
    "    vl_batch_imgs=vl[\"vl_batch_imgs\"], \n",
    "    vl_batch_labels=vl[\"vl_batch_labels\"]"
   ]
  },
  {
   "cell_type": "markdown",
   "id": "a97f16c2-2887-4d9c-9b37-ad9bc506f3ca",
   "metadata": {},
   "source": [
    "## Task 1: 1-layer dense network\n",
    "Try with neural networks 1-layer dense network i.e. no hidden layer, just the input and output ones."
   ]
  },
  {
   "cell_type": "code",
   "execution_count": 8,
   "id": "eb8fa7cd-9b9e-4502-adf6-79e0e6a22ed0",
   "metadata": {},
   "outputs": [
    {
     "name": "stderr",
     "output_type": "stream",
     "text": [
      "/Users/tabea-retina/opt/anaconda3/envs/adsml/lib/python3.9/site-packages/scipy/__init__.py:146: UserWarning: A NumPy version >=1.16.5 and <1.23.0 is required for this version of SciPy (detected version 1.23.0\n",
      "  warnings.warn(f\"A NumPy version >={np_minversion} and <{np_maxversion}\"\n"
     ]
    }
   ],
   "source": [
    "#import command\n",
    "import tensorflow as tf\n",
    "from tensorflow.keras import Sequential\n",
    "from tensorflow.keras.layers import Dense\n",
    "from tensorflow.keras.layers import InputLayer\n",
    "from tensorflow.keras import initializers"
   ]
  },
  {
   "cell_type": "code",
   "execution_count": 9,
   "id": "b5aed8bc-69bd-4e97-ba84-6b649842f1ae",
   "metadata": {
    "tags": []
   },
   "outputs": [
    {
     "name": "stdout",
     "output_type": "stream",
     "text": [
      "Model: \"sequential\"\n",
      "_________________________________________________________________\n",
      " Layer (type)                Output Shape              Param #   \n",
      "=================================================================\n",
      " dense (Dense)               (None, 6)                 7686      \n",
      "                                                                 \n",
      "=================================================================\n",
      "Total params: 7,686\n",
      "Trainable params: 7,686\n",
      "Non-trainable params: 0\n",
      "_________________________________________________________________\n"
     ]
    },
    {
     "name": "stderr",
     "output_type": "stream",
     "text": [
      "2022-08-19 13:54:08.706466: I tensorflow/core/platform/cpu_feature_guard.cc:193] This TensorFlow binary is optimized with oneAPI Deep Neural Network Library (oneDNN) to use the following CPU instructions in performance-critical operations:  AVX2 FMA\n",
      "To enable them in other operations, rebuild TensorFlow with the appropriate compiler flags.\n"
     ]
    }
   ],
   "source": [
    "### Create model\n",
    "model_1layer = Sequential()\n",
    "\n",
    "# layer\n",
    "model_1layer.add(InputLayer(input_shape=(1280), \n",
    "                            name='Input_Layer'))\n",
    "\n",
    "# Output layer\n",
    "model_1layer.add(Dense(6, \n",
    "                       activation=\"softmax\",  \n",
    "                       input_dim=1280,\n",
    "                       kernel_initializer=initializers.VarianceScaling(scale=1.0, seed=0),))\n",
    "\n",
    "# Print network summary\n",
    "model_1layer.summary()"
   ]
  },
  {
   "cell_type": "code",
   "execution_count": 10,
   "id": "51ff8111-85b2-4ecf-b2b4-606095cf87ad",
   "metadata": {},
   "outputs": [],
   "source": [
    "from tensorflow.keras import optimizers\n",
    "\n",
    "# Define loss function, optimizer and metrics to track during training\n",
    "model_1layer.compile(optimizer=\"sgd\", loss=\"sparse_categorical_crossentropy\", metrics=[\"acc\"])"
   ]
  },
  {
   "cell_type": "code",
   "execution_count": 11,
   "id": "f0991350-acb0-4168-b0ad-47e59a6bafa4",
   "metadata": {},
   "outputs": [],
   "source": [
    "# End training when accuracy stops improving\n",
    "import tensorflow.keras as keras\n",
    "from keras.callbacks import EarlyStopping\n",
    "\n",
    "early_stopping = keras.callbacks.EarlyStopping(monitor='val_loss', verbose=1, patience=6)"
   ]
  },
  {
   "cell_type": "code",
   "execution_count": 12,
   "id": "c7989469-7586-40f6-8f91-063257f6912f",
   "metadata": {},
   "outputs": [
    {
     "name": "stdout",
     "output_type": "stream",
     "text": [
      "Epoch 1/100\n",
      "9/9 [==============================] - 1s 37ms/step - loss: 1.4677 - acc: 0.4964 - val_loss: 1.0433 - val_acc: 0.7554\n",
      "Epoch 2/100\n",
      "9/9 [==============================] - 0s 7ms/step - loss: 0.8834 - acc: 0.7893 - val_loss: 0.7479 - val_acc: 0.8058\n",
      "Epoch 3/100\n",
      "9/9 [==============================] - 0s 9ms/step - loss: 0.6541 - acc: 0.8393 - val_loss: 0.6084 - val_acc: 0.8417\n",
      "Epoch 4/100\n",
      "9/9 [==============================] - 0s 14ms/step - loss: 0.5265 - acc: 0.8643 - val_loss: 0.5252 - val_acc: 0.8633\n",
      "Epoch 5/100\n",
      "9/9 [==============================] - 0s 16ms/step - loss: 0.4468 - acc: 0.8964 - val_loss: 0.4740 - val_acc: 0.8921\n",
      "Epoch 6/100\n",
      "9/9 [==============================] - 0s 22ms/step - loss: 0.3907 - acc: 0.9179 - val_loss: 0.4364 - val_acc: 0.8849\n",
      "Epoch 7/100\n",
      "9/9 [==============================] - 0s 13ms/step - loss: 0.3468 - acc: 0.9286 - val_loss: 0.4091 - val_acc: 0.8849\n",
      "Epoch 8/100\n",
      "9/9 [==============================] - 0s 20ms/step - loss: 0.3144 - acc: 0.9321 - val_loss: 0.3879 - val_acc: 0.8705\n",
      "Epoch 9/100\n",
      "9/9 [==============================] - 0s 10ms/step - loss: 0.2912 - acc: 0.9321 - val_loss: 0.3722 - val_acc: 0.8849\n",
      "Epoch 10/100\n",
      "9/9 [==============================] - 0s 12ms/step - loss: 0.2671 - acc: 0.9357 - val_loss: 0.3591 - val_acc: 0.8777\n",
      "Epoch 11/100\n",
      "9/9 [==============================] - 0s 17ms/step - loss: 0.2493 - acc: 0.9464 - val_loss: 0.3480 - val_acc: 0.8777\n",
      "Epoch 12/100\n",
      "9/9 [==============================] - 0s 9ms/step - loss: 0.2334 - acc: 0.9571 - val_loss: 0.3400 - val_acc: 0.8777\n",
      "Epoch 13/100\n",
      "9/9 [==============================] - 0s 9ms/step - loss: 0.2220 - acc: 0.9571 - val_loss: 0.3318 - val_acc: 0.8777\n",
      "Epoch 14/100\n",
      "9/9 [==============================] - 0s 8ms/step - loss: 0.2089 - acc: 0.9607 - val_loss: 0.3255 - val_acc: 0.8777\n",
      "Epoch 15/100\n",
      "9/9 [==============================] - 0s 12ms/step - loss: 0.1967 - acc: 0.9643 - val_loss: 0.3191 - val_acc: 0.8849\n",
      "Epoch 16/100\n",
      "9/9 [==============================] - 0s 7ms/step - loss: 0.1875 - acc: 0.9679 - val_loss: 0.3145 - val_acc: 0.8849\n",
      "Epoch 17/100\n",
      "9/9 [==============================] - 0s 10ms/step - loss: 0.1791 - acc: 0.9750 - val_loss: 0.3107 - val_acc: 0.8849\n",
      "Epoch 18/100\n",
      "9/9 [==============================] - 0s 9ms/step - loss: 0.1713 - acc: 0.9750 - val_loss: 0.3074 - val_acc: 0.8849\n",
      "Epoch 19/100\n",
      "9/9 [==============================] - 0s 8ms/step - loss: 0.1640 - acc: 0.9821 - val_loss: 0.3036 - val_acc: 0.8849\n",
      "Epoch 20/100\n",
      "9/9 [==============================] - 0s 13ms/step - loss: 0.1583 - acc: 0.9786 - val_loss: 0.3002 - val_acc: 0.8849\n",
      "Epoch 21/100\n",
      "9/9 [==============================] - 0s 9ms/step - loss: 0.1518 - acc: 0.9821 - val_loss: 0.2980 - val_acc: 0.8849\n",
      "Epoch 22/100\n",
      "9/9 [==============================] - 0s 8ms/step - loss: 0.1458 - acc: 0.9893 - val_loss: 0.2955 - val_acc: 0.8849\n",
      "Epoch 23/100\n",
      "9/9 [==============================] - 0s 9ms/step - loss: 0.1401 - acc: 0.9857 - val_loss: 0.2926 - val_acc: 0.8777\n",
      "Epoch 24/100\n",
      "9/9 [==============================] - 0s 9ms/step - loss: 0.1381 - acc: 0.9821 - val_loss: 0.2915 - val_acc: 0.8849\n",
      "Epoch 25/100\n",
      "9/9 [==============================] - 0s 8ms/step - loss: 0.1310 - acc: 0.9893 - val_loss: 0.2903 - val_acc: 0.8849\n",
      "Epoch 26/100\n",
      "9/9 [==============================] - 0s 9ms/step - loss: 0.1272 - acc: 0.9893 - val_loss: 0.2886 - val_acc: 0.8849\n",
      "Epoch 27/100\n",
      "9/9 [==============================] - 0s 11ms/step - loss: 0.1225 - acc: 0.9893 - val_loss: 0.2873 - val_acc: 0.8849\n",
      "Epoch 28/100\n",
      "9/9 [==============================] - 0s 8ms/step - loss: 0.1192 - acc: 0.9929 - val_loss: 0.2861 - val_acc: 0.8849\n",
      "Epoch 29/100\n",
      "9/9 [==============================] - 0s 13ms/step - loss: 0.1160 - acc: 0.9929 - val_loss: 0.2842 - val_acc: 0.8849\n",
      "Epoch 30/100\n",
      "9/9 [==============================] - 0s 10ms/step - loss: 0.1127 - acc: 0.9929 - val_loss: 0.2833 - val_acc: 0.8921\n",
      "Epoch 31/100\n",
      "9/9 [==============================] - 0s 9ms/step - loss: 0.1087 - acc: 0.9929 - val_loss: 0.2817 - val_acc: 0.8921\n",
      "Epoch 32/100\n",
      "9/9 [==============================] - 0s 23ms/step - loss: 0.1061 - acc: 0.9929 - val_loss: 0.2813 - val_acc: 0.8921\n",
      "Epoch 33/100\n",
      "9/9 [==============================] - 0s 21ms/step - loss: 0.1035 - acc: 0.9929 - val_loss: 0.2804 - val_acc: 0.8921\n",
      "Epoch 34/100\n",
      "9/9 [==============================] - 0s 9ms/step - loss: 0.1012 - acc: 0.9929 - val_loss: 0.2794 - val_acc: 0.8921\n",
      "Epoch 35/100\n",
      "9/9 [==============================] - 0s 10ms/step - loss: 0.0975 - acc: 0.9929 - val_loss: 0.2787 - val_acc: 0.8921\n",
      "Epoch 36/100\n",
      "9/9 [==============================] - 0s 10ms/step - loss: 0.0954 - acc: 0.9929 - val_loss: 0.2778 - val_acc: 0.8921\n",
      "Epoch 37/100\n",
      "9/9 [==============================] - 0s 9ms/step - loss: 0.0934 - acc: 0.9929 - val_loss: 0.2776 - val_acc: 0.8921\n",
      "Epoch 38/100\n",
      "9/9 [==============================] - 0s 9ms/step - loss: 0.0906 - acc: 0.9929 - val_loss: 0.2766 - val_acc: 0.8921\n",
      "Epoch 39/100\n",
      "9/9 [==============================] - 0s 12ms/step - loss: 0.0885 - acc: 0.9929 - val_loss: 0.2760 - val_acc: 0.8921\n",
      "Epoch 40/100\n",
      "9/9 [==============================] - 0s 8ms/step - loss: 0.0866 - acc: 0.9929 - val_loss: 0.2754 - val_acc: 0.8921\n",
      "Epoch 41/100\n",
      "9/9 [==============================] - 0s 8ms/step - loss: 0.0849 - acc: 0.9929 - val_loss: 0.2747 - val_acc: 0.8921\n",
      "Epoch 42/100\n",
      "9/9 [==============================] - 0s 12ms/step - loss: 0.0830 - acc: 0.9964 - val_loss: 0.2743 - val_acc: 0.8921\n",
      "Epoch 43/100\n",
      "9/9 [==============================] - 0s 7ms/step - loss: 0.0811 - acc: 0.9929 - val_loss: 0.2740 - val_acc: 0.8921\n",
      "Epoch 44/100\n",
      "9/9 [==============================] - 0s 11ms/step - loss: 0.0798 - acc: 0.9964 - val_loss: 0.2735 - val_acc: 0.8921\n",
      "Epoch 45/100\n",
      "9/9 [==============================] - 0s 10ms/step - loss: 0.0778 - acc: 0.9964 - val_loss: 0.2731 - val_acc: 0.8921\n",
      "Epoch 46/100\n",
      "9/9 [==============================] - 0s 11ms/step - loss: 0.0763 - acc: 0.9964 - val_loss: 0.2732 - val_acc: 0.8921\n",
      "Epoch 47/100\n",
      "9/9 [==============================] - 0s 23ms/step - loss: 0.0748 - acc: 0.9964 - val_loss: 0.2725 - val_acc: 0.8921\n",
      "Epoch 48/100\n",
      "9/9 [==============================] - 0s 12ms/step - loss: 0.0735 - acc: 0.9964 - val_loss: 0.2723 - val_acc: 0.8993\n",
      "Epoch 49/100\n",
      "9/9 [==============================] - 0s 20ms/step - loss: 0.0719 - acc: 0.9964 - val_loss: 0.2721 - val_acc: 0.8993\n",
      "Epoch 50/100\n",
      "9/9 [==============================] - 0s 21ms/step - loss: 0.0708 - acc: 0.9964 - val_loss: 0.2718 - val_acc: 0.8993\n",
      "Epoch 51/100\n",
      "9/9 [==============================] - 0s 9ms/step - loss: 0.0691 - acc: 0.9964 - val_loss: 0.2713 - val_acc: 0.8921\n",
      "Epoch 52/100\n",
      "9/9 [==============================] - 0s 12ms/step - loss: 0.0680 - acc: 0.9964 - val_loss: 0.2711 - val_acc: 0.8921\n",
      "Epoch 53/100\n",
      "9/9 [==============================] - 0s 8ms/step - loss: 0.0668 - acc: 0.9964 - val_loss: 0.2706 - val_acc: 0.8993\n",
      "Epoch 54/100\n",
      "9/9 [==============================] - 0s 11ms/step - loss: 0.0656 - acc: 0.9964 - val_loss: 0.2704 - val_acc: 0.8993\n",
      "Epoch 55/100\n",
      "9/9 [==============================] - 0s 7ms/step - loss: 0.0645 - acc: 1.0000 - val_loss: 0.2703 - val_acc: 0.8921\n",
      "Epoch 56/100\n",
      "9/9 [==============================] - 0s 6ms/step - loss: 0.0635 - acc: 0.9964 - val_loss: 0.2703 - val_acc: 0.8921\n",
      "Epoch 57/100\n",
      "9/9 [==============================] - 0s 6ms/step - loss: 0.0622 - acc: 0.9964 - val_loss: 0.2701 - val_acc: 0.8921\n",
      "Epoch 58/100\n",
      "9/9 [==============================] - 0s 6ms/step - loss: 0.0613 - acc: 0.9964 - val_loss: 0.2703 - val_acc: 0.8921\n",
      "Epoch 59/100\n",
      "9/9 [==============================] - 0s 8ms/step - loss: 0.0604 - acc: 0.9964 - val_loss: 0.2698 - val_acc: 0.8921\n",
      "Epoch 60/100\n",
      "9/9 [==============================] - 0s 5ms/step - loss: 0.0592 - acc: 0.9964 - val_loss: 0.2696 - val_acc: 0.8921\n",
      "Epoch 61/100\n",
      "9/9 [==============================] - 0s 6ms/step - loss: 0.0583 - acc: 0.9964 - val_loss: 0.2694 - val_acc: 0.8993\n",
      "Epoch 62/100\n",
      "9/9 [==============================] - 0s 32ms/step - loss: 0.0577 - acc: 0.9964 - val_loss: 0.2695 - val_acc: 0.8993\n",
      "Epoch 63/100\n",
      "9/9 [==============================] - 0s 9ms/step - loss: 0.0568 - acc: 1.0000 - val_loss: 0.2692 - val_acc: 0.8993\n",
      "Epoch 64/100\n",
      "9/9 [==============================] - 0s 8ms/step - loss: 0.0555 - acc: 1.0000 - val_loss: 0.2693 - val_acc: 0.8993\n",
      "Epoch 65/100\n",
      "9/9 [==============================] - 0s 5ms/step - loss: 0.0548 - acc: 1.0000 - val_loss: 0.2694 - val_acc: 0.8993\n",
      "Epoch 66/100\n",
      "9/9 [==============================] - 0s 5ms/step - loss: 0.0539 - acc: 1.0000 - val_loss: 0.2692 - val_acc: 0.8993\n",
      "Epoch 67/100\n",
      "9/9 [==============================] - 0s 6ms/step - loss: 0.0536 - acc: 1.0000 - val_loss: 0.2692 - val_acc: 0.8993\n",
      "Epoch 68/100\n",
      "9/9 [==============================] - 0s 31ms/step - loss: 0.0527 - acc: 1.0000 - val_loss: 0.2689 - val_acc: 0.8993\n",
      "Epoch 69/100\n",
      "9/9 [==============================] - 0s 10ms/step - loss: 0.0517 - acc: 1.0000 - val_loss: 0.2688 - val_acc: 0.8993\n",
      "Epoch 70/100\n",
      "9/9 [==============================] - 0s 17ms/step - loss: 0.0510 - acc: 1.0000 - val_loss: 0.2687 - val_acc: 0.8993\n",
      "Epoch 71/100\n",
      "9/9 [==============================] - 0s 9ms/step - loss: 0.0502 - acc: 1.0000 - val_loss: 0.2686 - val_acc: 0.8993\n",
      "Epoch 72/100\n",
      "9/9 [==============================] - 0s 13ms/step - loss: 0.0495 - acc: 1.0000 - val_loss: 0.2686 - val_acc: 0.8993\n",
      "Epoch 73/100\n",
      "9/9 [==============================] - 0s 18ms/step - loss: 0.0488 - acc: 1.0000 - val_loss: 0.2686 - val_acc: 0.8993\n",
      "Epoch 74/100\n",
      "9/9 [==============================] - 0s 11ms/step - loss: 0.0485 - acc: 1.0000 - val_loss: 0.2685 - val_acc: 0.8993\n",
      "Epoch 75/100\n",
      "9/9 [==============================] - 0s 29ms/step - loss: 0.0477 - acc: 1.0000 - val_loss: 0.2685 - val_acc: 0.8993\n",
      "Epoch 76/100\n",
      "9/9 [==============================] - 0s 21ms/step - loss: 0.0471 - acc: 1.0000 - val_loss: 0.2683 - val_acc: 0.8993\n",
      "Epoch 77/100\n",
      "9/9 [==============================] - 0s 17ms/step - loss: 0.0464 - acc: 1.0000 - val_loss: 0.2684 - val_acc: 0.8993\n",
      "Epoch 78/100\n",
      "9/9 [==============================] - 0s 12ms/step - loss: 0.0460 - acc: 1.0000 - val_loss: 0.2683 - val_acc: 0.8993\n",
      "Epoch 79/100\n",
      "9/9 [==============================] - 0s 11ms/step - loss: 0.0453 - acc: 1.0000 - val_loss: 0.2682 - val_acc: 0.8993\n",
      "Epoch 80/100\n",
      "9/9 [==============================] - 0s 9ms/step - loss: 0.0447 - acc: 1.0000 - val_loss: 0.2681 - val_acc: 0.8993\n",
      "Epoch 81/100\n",
      "9/9 [==============================] - 0s 13ms/step - loss: 0.0443 - acc: 1.0000 - val_loss: 0.2683 - val_acc: 0.8993\n",
      "Epoch 82/100\n",
      "9/9 [==============================] - 0s 10ms/step - loss: 0.0436 - acc: 1.0000 - val_loss: 0.2682 - val_acc: 0.8993\n",
      "Epoch 83/100\n",
      "9/9 [==============================] - 0s 14ms/step - loss: 0.0432 - acc: 1.0000 - val_loss: 0.2683 - val_acc: 0.8993\n",
      "Epoch 84/100\n",
      "9/9 [==============================] - 0s 9ms/step - loss: 0.0426 - acc: 1.0000 - val_loss: 0.2683 - val_acc: 0.8993\n",
      "Epoch 85/100\n",
      "9/9 [==============================] - 0s 11ms/step - loss: 0.0422 - acc: 1.0000 - val_loss: 0.2684 - val_acc: 0.8993\n",
      "Epoch 86/100\n",
      "9/9 [==============================] - 0s 11ms/step - loss: 0.0417 - acc: 1.0000 - val_loss: 0.2683 - val_acc: 0.8993\n",
      "Epoch 86: early stopping\n"
     ]
    }
   ],
   "source": [
    "# Fit model\n",
    "history_1layer = model_1layer.fit(\n",
    "    x=tr_features,\n",
    "    y=tr_batch_labels,\n",
    "    batch_size=32,\n",
    "    epochs=100,\n",
    "    validation_data=(vl_features, vl_batch_labels),\n",
    "    shuffle=True,  # Shuffle training samples,\n",
    "    callbacks=[early_stopping]\n",
    ")"
   ]
  },
  {
   "cell_type": "code",
   "execution_count": 13,
   "id": "ce732936-69dd-47b8-b402-bc5e5e3d604b",
   "metadata": {},
   "outputs": [
    {
     "data": {
      "text/plain": [
       "dict_keys(['loss', 'acc', 'val_loss', 'val_acc'])"
      ]
     },
     "execution_count": 13,
     "metadata": {},
     "output_type": "execute_result"
    }
   ],
   "source": [
    "# The history object saved the scores during training\n",
    "history_1layer.history.keys()"
   ]
  },
  {
   "cell_type": "code",
   "execution_count": 14,
   "id": "ef3019b1-0c05-4292-a675-5727461caa64",
   "metadata": {},
   "outputs": [
    {
     "data": {
      "image/png": "[encoded data removed]",
      "text/plain": [
       "<Figure size 864x288 with 2 Axes>"
      ]
     },
     "metadata": {
      "needs_background": "light"
     },
     "output_type": "display_data"
    }
   ],
   "source": [
    "%matplotlib inline\n",
    "import matplotlib.pyplot as plt\n",
    "import numpy as np\n",
    "\n",
    "# Create two plots: one for the loss value, one for the accuracy\n",
    "fig, (ax1, ax2) = plt.subplots(nrows=1, ncols=2, figsize=(12, 4))\n",
    "\n",
    "# Plot accuracy values\n",
    "ax1.plot(history_1layer.history[\"loss\"], label=\"train loss\")\n",
    "ax1.plot(history_1layer.history[\"val_loss\"], label=\"val loss\")\n",
    "ax1.set_title(\n",
    "    \"Validation loss {:.3f} (mean last 3)\".format(\n",
    "        np.mean(history_1layer.history[\"val_loss\"][-3:])  # last three values\n",
    "    )\n",
    ")\n",
    "ax1.set_xlabel(\"epoch\")\n",
    "ax1.set_ylabel(\"loss value\")\n",
    "ax1.legend()\n",
    "\n",
    "# Plot accuracy values\n",
    "ax2.plot(history_1layer.history[\"acc\"], label=\"train acc\")\n",
    "ax2.plot(history_1layer.history[\"val_acc\"], label=\"val acc\")\n",
    "ax2.set_title(\n",
    "    \"Validation accuracy {:.3f} (mean last 3)\".format(\n",
    "        np.mean(history_1layer.history[\"val_acc\"][-3:])  # last three values\n",
    "    )\n",
    ")\n",
    "ax2.set_xlabel(\"epoch\")\n",
    "ax2.set_ylabel(\"accuracy\")\n",
    "ax2.legend()\n",
    "plt.show()"
   ]
  },
  {
   "cell_type": "markdown",
   "id": "634243f9-18c6-4eb0-8d00-14ed06ee7983",
   "metadata": {},
   "source": [
    "_Observation: The loss curves are descreasing, and the accuracy curves are increasing._"
   ]
  },
  {
   "cell_type": "code",
   "execution_count": 15,
   "id": "9047658b-fe75-4f76-ba34-781317ffd5c4",
   "metadata": {},
   "outputs": [
    {
     "name": "stdout",
     "output_type": "stream",
     "text": [
      "2/2 [==============================] - 0s 3ms/step - loss: 0.2077 - acc: 0.9400\n",
      "Test loss: 0.21\n",
      "Test accuracy: 94.00%\n"
     ]
    }
   ],
   "source": [
    "(test_loss, test_accuracy) = model_1layer.evaluate(te_features, te_batch_labels, batch_size=32)\n",
    "\n",
    "print(\"Test loss: {:.2f}\".format(test_loss))\n",
    "print(\"Test accuracy: {:.2f}%\".format(100 * test_accuracy))"
   ]
  },
  {
   "cell_type": "markdown",
   "id": "b208c3fc-2ce8-4bcb-8538-87415fe9300f",
   "metadata": {},
   "source": [
    "## Task 2: 2-layer dense network\n",
    "Try with 2-layer dense network i.e. one hidden layer."
   ]
  },
  {
   "cell_type": "code",
   "execution_count": 16,
   "id": "b08879af-3d03-4765-9dcf-e8b4b2360e4c",
   "metadata": {},
   "outputs": [
    {
     "name": "stdout",
     "output_type": "stream",
     "text": [
      "Model: \"sequential_1\"\n",
      "_________________________________________________________________\n",
      " Layer (type)                Output Shape              Param #   \n",
      "=================================================================\n",
      " dense_1 (Dense)             (None, 64)                81984     \n",
      "                                                                 \n",
      " dense_2 (Dense)             (None, 6)                 390       \n",
      "                                                                 \n",
      "=================================================================\n",
      "Total params: 82,374\n",
      "Trainable params: 82,374\n",
      "Non-trainable params: 0\n",
      "_________________________________________________________________\n"
     ]
    }
   ],
   "source": [
    "# Create model\n",
    "model_2layer = Sequential()\n",
    "\n",
    "\n",
    "# 1 Layer\n",
    "model_2layer.add(Dense(64, activation=\"relu\",  \n",
    "                       input_dim=1280,\n",
    "                       kernel_initializer=initializers.VarianceScaling(scale=2.0, seed=0),))\n",
    "\n",
    "# 2 layer\n",
    "model_2layer.add(Dense(6, \n",
    "                       activation=\"softmax\",  \n",
    "                       kernel_initializer=initializers.VarianceScaling(scale=1.0, seed=0),))\n",
    "\n",
    "# Print network summary\n",
    "model_2layer.summary()"
   ]
  },
  {
   "cell_type": "code",
   "execution_count": 17,
   "id": "8d4995d3-cfd3-4be7-ad30-0f38aa94e50a",
   "metadata": {},
   "outputs": [],
   "source": [
    "# Define loss function, optimizer and metrics to track during training\n",
    "model_2layer.compile(optimizer=\"sgd\", loss=\"sparse_categorical_crossentropy\", metrics=[\"acc\"])"
   ]
  },
  {
   "cell_type": "code",
   "execution_count": 18,
   "id": "4b9f1e11-168d-4e71-9114-813145f86d69",
   "metadata": {},
   "outputs": [
    {
     "name": "stdout",
     "output_type": "stream",
     "text": [
      "Epoch 1/100\n",
      "9/9 [==============================] - 0s 23ms/step - loss: 1.7485 - acc: 0.3143 - val_loss: 1.4239 - val_acc: 0.5612\n",
      "Epoch 2/100\n",
      "9/9 [==============================] - 0s 21ms/step - loss: 1.2496 - acc: 0.6571 - val_loss: 1.0814 - val_acc: 0.6906\n",
      "Epoch 3/100\n",
      "9/9 [==============================] - 0s 13ms/step - loss: 0.9675 - acc: 0.7464 - val_loss: 0.8680 - val_acc: 0.7770\n",
      "Epoch 4/100\n",
      "9/9 [==============================] - 0s 7ms/step - loss: 0.7792 - acc: 0.8286 - val_loss: 0.7284 - val_acc: 0.7770\n",
      "Epoch 5/100\n",
      "9/9 [==============================] - 0s 7ms/step - loss: 0.6529 - acc: 0.8571 - val_loss: 0.6349 - val_acc: 0.8201\n",
      "Epoch 6/100\n",
      "9/9 [==============================] - 0s 8ms/step - loss: 0.5616 - acc: 0.8786 - val_loss: 0.5689 - val_acc: 0.8489\n",
      "Epoch 7/100\n",
      "9/9 [==============================] - 0s 12ms/step - loss: 0.4931 - acc: 0.8964 - val_loss: 0.5185 - val_acc: 0.8489\n",
      "Epoch 8/100\n",
      "9/9 [==============================] - 0s 11ms/step - loss: 0.4435 - acc: 0.9071 - val_loss: 0.4798 - val_acc: 0.8705\n",
      "Epoch 9/100\n",
      "9/9 [==============================] - 0s 9ms/step - loss: 0.3992 - acc: 0.9214 - val_loss: 0.4498 - val_acc: 0.8849\n",
      "Epoch 10/100\n",
      "9/9 [==============================] - 0s 6ms/step - loss: 0.3679 - acc: 0.9179 - val_loss: 0.4233 - val_acc: 0.8849\n",
      "Epoch 11/100\n",
      "9/9 [==============================] - 0s 6ms/step - loss: 0.3350 - acc: 0.9357 - val_loss: 0.4015 - val_acc: 0.8921\n",
      "Epoch 12/100\n",
      "9/9 [==============================] - 0s 6ms/step - loss: 0.3129 - acc: 0.9286 - val_loss: 0.3850 - val_acc: 0.8849\n",
      "Epoch 13/100\n",
      "9/9 [==============================] - 0s 14ms/step - loss: 0.2892 - acc: 0.9429 - val_loss: 0.3692 - val_acc: 0.8921\n",
      "Epoch 14/100\n",
      "9/9 [==============================] - 0s 13ms/step - loss: 0.2713 - acc: 0.9429 - val_loss: 0.3568 - val_acc: 0.8921\n",
      "Epoch 15/100\n",
      "9/9 [==============================] - 0s 12ms/step - loss: 0.2556 - acc: 0.9393 - val_loss: 0.3460 - val_acc: 0.8921\n",
      "Epoch 16/100\n",
      "9/9 [==============================] - 0s 16ms/step - loss: 0.2400 - acc: 0.9429 - val_loss: 0.3353 - val_acc: 0.8849\n",
      "Epoch 17/100\n",
      "9/9 [==============================] - 0s 13ms/step - loss: 0.2289 - acc: 0.9500 - val_loss: 0.3258 - val_acc: 0.8921\n",
      "Epoch 18/100\n",
      "9/9 [==============================] - 0s 9ms/step - loss: 0.2161 - acc: 0.9571 - val_loss: 0.3189 - val_acc: 0.8849\n",
      "Epoch 19/100\n",
      "9/9 [==============================] - 0s 9ms/step - loss: 0.2063 - acc: 0.9500 - val_loss: 0.3112 - val_acc: 0.8849\n",
      "Epoch 20/100\n",
      "9/9 [==============================] - 0s 7ms/step - loss: 0.1964 - acc: 0.9536 - val_loss: 0.3057 - val_acc: 0.8921\n",
      "Epoch 21/100\n",
      "9/9 [==============================] - 0s 16ms/step - loss: 0.1872 - acc: 0.9571 - val_loss: 0.3003 - val_acc: 0.8849\n",
      "Epoch 22/100\n",
      "9/9 [==============================] - 0s 25ms/step - loss: 0.1796 - acc: 0.9679 - val_loss: 0.2958 - val_acc: 0.8993\n",
      "Epoch 23/100\n",
      "9/9 [==============================] - 0s 6ms/step - loss: 0.1716 - acc: 0.9643 - val_loss: 0.2911 - val_acc: 0.8921\n",
      "Epoch 24/100\n",
      "9/9 [==============================] - 0s 6ms/step - loss: 0.1652 - acc: 0.9821 - val_loss: 0.2878 - val_acc: 0.8921\n",
      "Epoch 25/100\n",
      "9/9 [==============================] - 0s 6ms/step - loss: 0.1594 - acc: 0.9821 - val_loss: 0.2841 - val_acc: 0.8921\n",
      "Epoch 26/100\n",
      "9/9 [==============================] - 0s 6ms/step - loss: 0.1523 - acc: 0.9857 - val_loss: 0.2807 - val_acc: 0.8921\n",
      "Epoch 27/100\n",
      "9/9 [==============================] - 0s 6ms/step - loss: 0.1465 - acc: 0.9893 - val_loss: 0.2779 - val_acc: 0.8849\n",
      "Epoch 28/100\n",
      "9/9 [==============================] - 0s 6ms/step - loss: 0.1412 - acc: 0.9893 - val_loss: 0.2753 - val_acc: 0.8993\n",
      "Epoch 29/100\n",
      "9/9 [==============================] - 0s 6ms/step - loss: 0.1359 - acc: 0.9893 - val_loss: 0.2726 - val_acc: 0.8993\n",
      "Epoch 30/100\n",
      "9/9 [==============================] - 0s 27ms/step - loss: 0.1320 - acc: 0.9893 - val_loss: 0.2705 - val_acc: 0.8921\n",
      "Epoch 31/100\n",
      "9/9 [==============================] - 0s 10ms/step - loss: 0.1271 - acc: 0.9893 - val_loss: 0.2681 - val_acc: 0.8993\n",
      "Epoch 32/100\n",
      "9/9 [==============================] - 0s 8ms/step - loss: 0.1237 - acc: 0.9893 - val_loss: 0.2666 - val_acc: 0.8993\n",
      "Epoch 33/100\n",
      "9/9 [==============================] - 0s 9ms/step - loss: 0.1191 - acc: 0.9893 - val_loss: 0.2646 - val_acc: 0.9065\n",
      "Epoch 34/100\n",
      "9/9 [==============================] - 0s 14ms/step - loss: 0.1150 - acc: 0.9929 - val_loss: 0.2628 - val_acc: 0.9065\n",
      "Epoch 35/100\n",
      "9/9 [==============================] - 0s 9ms/step - loss: 0.1120 - acc: 0.9964 - val_loss: 0.2612 - val_acc: 0.9065\n",
      "Epoch 36/100\n",
      "9/9 [==============================] - 0s 9ms/step - loss: 0.1087 - acc: 0.9929 - val_loss: 0.2600 - val_acc: 0.9137\n",
      "Epoch 37/100\n",
      "9/9 [==============================] - 0s 23ms/step - loss: 0.1049 - acc: 0.9964 - val_loss: 0.2588 - val_acc: 0.8993\n",
      "Epoch 38/100\n",
      "9/9 [==============================] - 0s 14ms/step - loss: 0.1027 - acc: 0.9964 - val_loss: 0.2575 - val_acc: 0.9137\n",
      "Epoch 39/100\n",
      "9/9 [==============================] - 0s 13ms/step - loss: 0.0992 - acc: 0.9964 - val_loss: 0.2566 - val_acc: 0.8993\n",
      "Epoch 40/100\n",
      "9/9 [==============================] - 0s 25ms/step - loss: 0.0965 - acc: 0.9964 - val_loss: 0.2556 - val_acc: 0.8993\n",
      "Epoch 41/100\n",
      "9/9 [==============================] - 0s 19ms/step - loss: 0.0939 - acc: 0.9964 - val_loss: 0.2546 - val_acc: 0.9137\n",
      "Epoch 42/100\n",
      "9/9 [==============================] - 0s 12ms/step - loss: 0.0912 - acc: 0.9964 - val_loss: 0.2536 - val_acc: 0.9137\n",
      "Epoch 43/100\n",
      "9/9 [==============================] - 0s 12ms/step - loss: 0.0883 - acc: 0.9964 - val_loss: 0.2528 - val_acc: 0.9137\n",
      "Epoch 44/100\n",
      "9/9 [==============================] - 0s 9ms/step - loss: 0.0859 - acc: 0.9964 - val_loss: 0.2521 - val_acc: 0.9137\n",
      "Epoch 45/100\n",
      "9/9 [==============================] - 0s 10ms/step - loss: 0.0836 - acc: 0.9964 - val_loss: 0.2514 - val_acc: 0.9065\n",
      "Epoch 46/100\n",
      "9/9 [==============================] - 0s 10ms/step - loss: 0.0819 - acc: 0.9964 - val_loss: 0.2509 - val_acc: 0.9137\n",
      "Epoch 47/100\n",
      "9/9 [==============================] - 0s 9ms/step - loss: 0.0799 - acc: 0.9964 - val_loss: 0.2504 - val_acc: 0.9065\n",
      "Epoch 48/100\n",
      "9/9 [==============================] - 0s 20ms/step - loss: 0.0775 - acc: 0.9964 - val_loss: 0.2496 - val_acc: 0.9209\n",
      "Epoch 49/100\n",
      "9/9 [==============================] - 0s 24ms/step - loss: 0.0759 - acc: 0.9964 - val_loss: 0.2491 - val_acc: 0.9137\n",
      "Epoch 50/100\n",
      "9/9 [==============================] - 0s 9ms/step - loss: 0.0740 - acc: 0.9964 - val_loss: 0.2487 - val_acc: 0.9137\n",
      "Epoch 51/100\n",
      "9/9 [==============================] - 0s 9ms/step - loss: 0.0721 - acc: 0.9964 - val_loss: 0.2484 - val_acc: 0.9137\n",
      "Epoch 52/100\n",
      "9/9 [==============================] - 0s 9ms/step - loss: 0.0700 - acc: 0.9964 - val_loss: 0.2482 - val_acc: 0.9137\n",
      "Epoch 53/100\n",
      "9/9 [==============================] - 0s 10ms/step - loss: 0.0685 - acc: 0.9964 - val_loss: 0.2477 - val_acc: 0.9209\n",
      "Epoch 54/100\n",
      "9/9 [==============================] - 0s 9ms/step - loss: 0.0671 - acc: 0.9964 - val_loss: 0.2473 - val_acc: 0.9137\n",
      "Epoch 55/100\n",
      "9/9 [==============================] - 0s 12ms/step - loss: 0.0656 - acc: 0.9964 - val_loss: 0.2469 - val_acc: 0.9209\n",
      "Epoch 56/100\n",
      "9/9 [==============================] - 0s 9ms/step - loss: 0.0641 - acc: 0.9964 - val_loss: 0.2468 - val_acc: 0.9137\n",
      "Epoch 57/100\n",
      "9/9 [==============================] - 0s 10ms/step - loss: 0.0625 - acc: 0.9964 - val_loss: 0.2470 - val_acc: 0.9137\n",
      "Epoch 58/100\n",
      "9/9 [==============================] - 0s 15ms/step - loss: 0.0611 - acc: 0.9964 - val_loss: 0.2464 - val_acc: 0.9209\n",
      "Epoch 59/100\n",
      "9/9 [==============================] - 0s 11ms/step - loss: 0.0597 - acc: 0.9964 - val_loss: 0.2463 - val_acc: 0.9209\n",
      "Epoch 60/100\n",
      "9/9 [==============================] - 0s 12ms/step - loss: 0.0588 - acc: 0.9964 - val_loss: 0.2462 - val_acc: 0.9209\n",
      "Epoch 61/100\n",
      "9/9 [==============================] - 0s 9ms/step - loss: 0.0575 - acc: 0.9964 - val_loss: 0.2460 - val_acc: 0.9137\n",
      "Epoch 62/100\n",
      "9/9 [==============================] - 0s 10ms/step - loss: 0.0559 - acc: 0.9964 - val_loss: 0.2459 - val_acc: 0.9137\n",
      "Epoch 63/100\n",
      "9/9 [==============================] - 0s 16ms/step - loss: 0.0548 - acc: 0.9964 - val_loss: 0.2459 - val_acc: 0.9209\n",
      "Epoch 64/100\n",
      "9/9 [==============================] - 0s 16ms/step - loss: 0.0539 - acc: 0.9964 - val_loss: 0.2455 - val_acc: 0.9209\n",
      "Epoch 65/100\n",
      "9/9 [==============================] - 0s 21ms/step - loss: 0.0527 - acc: 0.9964 - val_loss: 0.2455 - val_acc: 0.9209\n",
      "Epoch 66/100\n",
      "9/9 [==============================] - 0s 14ms/step - loss: 0.0518 - acc: 0.9964 - val_loss: 0.2455 - val_acc: 0.9209\n",
      "Epoch 67/100\n",
      "9/9 [==============================] - 0s 6ms/step - loss: 0.0505 - acc: 0.9964 - val_loss: 0.2455 - val_acc: 0.9209\n",
      "Epoch 68/100\n",
      "9/9 [==============================] - 0s 12ms/step - loss: 0.0496 - acc: 0.9964 - val_loss: 0.2454 - val_acc: 0.9209\n",
      "Epoch 69/100\n",
      "9/9 [==============================] - 0s 7ms/step - loss: 0.0487 - acc: 0.9964 - val_loss: 0.2454 - val_acc: 0.9209\n",
      "Epoch 70/100\n",
      "9/9 [==============================] - 0s 10ms/step - loss: 0.0479 - acc: 0.9964 - val_loss: 0.2453 - val_acc: 0.9209\n",
      "Epoch 71/100\n",
      "9/9 [==============================] - 0s 10ms/step - loss: 0.0469 - acc: 0.9964 - val_loss: 0.2453 - val_acc: 0.9209\n",
      "Epoch 72/100\n",
      "9/9 [==============================] - 0s 8ms/step - loss: 0.0460 - acc: 0.9964 - val_loss: 0.2454 - val_acc: 0.9209\n",
      "Epoch 73/100\n",
      "9/9 [==============================] - 0s 12ms/step - loss: 0.0449 - acc: 0.9964 - val_loss: 0.2453 - val_acc: 0.9209\n",
      "Epoch 74/100\n",
      "9/9 [==============================] - 0s 14ms/step - loss: 0.0442 - acc: 0.9964 - val_loss: 0.2455 - val_acc: 0.9209\n",
      "Epoch 75/100\n",
      "9/9 [==============================] - 0s 10ms/step - loss: 0.0434 - acc: 0.9964 - val_loss: 0.2456 - val_acc: 0.9209\n",
      "Epoch 76/100\n",
      "9/9 [==============================] - 0s 20ms/step - loss: 0.0429 - acc: 0.9964 - val_loss: 0.2455 - val_acc: 0.9209\n",
      "Epoch 77/100\n",
      "9/9 [==============================] - 0s 30ms/step - loss: 0.0419 - acc: 0.9964 - val_loss: 0.2455 - val_acc: 0.9209\n",
      "Epoch 77: early stopping\n"
     ]
    }
   ],
   "source": [
    "# Fit model\n",
    "history_2layer = model_2layer.fit(\n",
    "    x=tr_features,\n",
    "    y=tr_batch_labels,\n",
    "    batch_size=32,\n",
    "    epochs=100,\n",
    "    validation_data=(vl_features, vl_batch_labels),\n",
    "    shuffle=True,  # Shuffle training samples\n",
    "    callbacks=[early_stopping]\n",
    ")"
   ]
  },
  {
   "cell_type": "code",
   "execution_count": 19,
   "id": "1e01484b-9538-4147-9de3-2fe4b553b097",
   "metadata": {},
   "outputs": [
    {
     "data": {
      "text/plain": [
       "dict_keys(['loss', 'acc', 'val_loss', 'val_acc'])"
      ]
     },
     "execution_count": 19,
     "metadata": {},
     "output_type": "execute_result"
    }
   ],
   "source": [
    "# The history object saved the scores during training\n",
    "history_2layer.history.keys()"
   ]
  },
  {
   "cell_type": "code",
   "execution_count": 20,
   "id": "1f61cdac-b7e1-4502-ba36-42a00d7039fc",
   "metadata": {},
   "outputs": [
    {
     "data": {
      "image/png": "[encoded data removed]",
      "text/plain": [
       "<Figure size 864x288 with 2 Axes>"
      ]
     },
     "metadata": {
      "needs_background": "light"
     },
     "output_type": "display_data"
    }
   ],
   "source": [
    "%matplotlib inline\n",
    "import matplotlib.pyplot as plt\n",
    "import numpy as np\n",
    "\n",
    "# Create two plots: one for the loss value, one for the accuracy\n",
    "fig, (ax1, ax2) = plt.subplots(nrows=1, ncols=2, figsize=(12, 4))\n",
    "\n",
    "# Plot accuracy values\n",
    "ax1.plot(history_2layer.history[\"loss\"], label=\"train loss\")\n",
    "ax1.plot(history_2layer.history[\"val_loss\"], label=\"val loss\")\n",
    "ax1.set_title(\n",
    "    \"Validation loss {:.3f} (mean last 3)\".format(\n",
    "        np.mean(history_2layer.history[\"val_loss\"][-3:])  # last three values\n",
    "    )\n",
    ")\n",
    "ax1.set_xlabel(\"epoch\")\n",
    "ax1.set_ylabel(\"loss value\")\n",
    "ax1.legend()\n",
    "\n",
    "# Plot accuracy values\n",
    "ax2.plot(history_2layer.history[\"acc\"], label=\"train acc\")\n",
    "ax2.plot(history_2layer.history[\"val_acc\"], label=\"val acc\")\n",
    "ax2.set_title(\n",
    "    \"Validation accuracy {:.3f} (mean last 3)\".format(\n",
    "        np.mean(history_2layer.history[\"val_acc\"][-3:])  # last three values\n",
    "    )\n",
    ")\n",
    "ax2.set_xlabel(\"epoch\")\n",
    "ax2.set_ylabel(\"accuracy\")\n",
    "ax2.legend()\n",
    "plt.show()"
   ]
  },
  {
   "cell_type": "markdown",
   "id": "14336c27-da2b-4c70-8bd7-f8bdd613c786",
   "metadata": {},
   "source": [
    "_Observation: The curves look similar to the ones from the 1-layer dense network._"
   ]
  },
  {
   "cell_type": "code",
   "execution_count": 21,
   "id": "2d333bae-2b3b-4a54-84d4-5c26333d96b6",
   "metadata": {},
   "outputs": [
    {
     "name": "stdout",
     "output_type": "stream",
     "text": [
      "2/2 [==============================] - 0s 9ms/step - loss: 0.2140 - acc: 0.9400\n",
      "Test loss: 0.21\n",
      "Test accuracy: 94.00%\n"
     ]
    }
   ],
   "source": [
    "(test_loss, test_accuracy) = model_2layer.evaluate(te_features, te_batch_labels, batch_size=32)\n",
    "\n",
    "print(\"Test loss: {:.2f}\".format(test_loss))\n",
    "print(\"Test accuracy: {:.2f}%\".format(100 * test_accuracy))"
   ]
  }
 ],
 "metadata": {
  "kernelspec": {
   "display_name": "Python 3 (ipykernel)",
   "language": "python",
   "name": "python3"
  },
  "language_info": {
   "codemirror_mode": {
    "name": "ipython",
    "version": 3
   },
   "file_extension": ".py",
   "mimetype": "text/x-python",
   "name": "python",
   "nbconvert_exporter": "python",
   "pygments_lexer": "ipython3",
   "version": "3.9.7"
  }
 },
 "nbformat": 4,
 "nbformat_minor": 5
}
