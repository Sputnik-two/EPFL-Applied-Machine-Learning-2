{
 "cells": [
  {
   "cell_type": "markdown",
   "id": "7cb20641-5ff3-451a-a7b7-289e441353e8",
   "metadata": {},
   "source": [
    "# 4.11.09 Final Comparison"
   ]
  },
  {
   "cell_type": "markdown",
   "id": "9828443b-56d2-41c0-a847-c08b900da53b",
   "metadata": {},
   "source": [
    "## Task 1: Accuracy Dataframe\n",
    "Collect the test accuracy of all of the models from above in a notebook. You can use a DataFrame to store your results for instance."
   ]
  },
  {
   "cell_type": "code",
   "execution_count": 4,
   "id": "ef585a08-4005-426a-ac01-b8c1f4fdb070",
   "metadata": {},
   "outputs": [
    {
     "data": {
      "text/html": [
       "<div>\n",
       "<style scoped>\n",
       "    .dataframe tbody tr th:only-of-type {\n",
       "        vertical-align: middle;\n",
       "    }\n",
       "\n",
       "    .dataframe tbody tr th {\n",
       "        vertical-align: top;\n",
       "    }\n",
       "\n",
       "    .dataframe thead th {\n",
       "        text-align: right;\n",
       "    }\n",
       "</style>\n",
       "<table border=\"1\" class=\"dataframe\">\n",
       "  <thead>\n",
       "    <tr style=\"text-align: right;\">\n",
       "      <th></th>\n",
       "      <th>model</th>\n",
       "      <th>test_accurancy</th>\n",
       "    </tr>\n",
       "  </thead>\n",
       "  <tbody>\n",
       "    <tr>\n",
       "      <th>0</th>\n",
       "      <td>k-NN</td>\n",
       "      <td>0.94</td>\n",
       "    </tr>\n",
       "    <tr>\n",
       "      <th>1</th>\n",
       "      <td>logistic without reg.</td>\n",
       "      <td>0.96</td>\n",
       "    </tr>\n",
       "    <tr>\n",
       "      <th>2</th>\n",
       "      <td>logistic with reg.</td>\n",
       "      <td>0.94</td>\n",
       "    </tr>\n",
       "    <tr>\n",
       "      <th>3</th>\n",
       "      <td>decision tree with PCA</td>\n",
       "      <td>0.90</td>\n",
       "    </tr>\n",
       "    <tr>\n",
       "      <th>4</th>\n",
       "      <td>random forest</td>\n",
       "      <td>0.96</td>\n",
       "    </tr>\n",
       "    <tr>\n",
       "      <th>5</th>\n",
       "      <td>svm linear</td>\n",
       "      <td>0.92</td>\n",
       "    </tr>\n",
       "    <tr>\n",
       "      <th>6</th>\n",
       "      <td>svm rbf</td>\n",
       "      <td>0.96</td>\n",
       "    </tr>\n",
       "    <tr>\n",
       "      <th>7</th>\n",
       "      <td>1-layer nn</td>\n",
       "      <td>0.94</td>\n",
       "    </tr>\n",
       "    <tr>\n",
       "      <th>8</th>\n",
       "      <td>2-layer nn</td>\n",
       "      <td>0.94</td>\n",
       "    </tr>\n",
       "    <tr>\n",
       "      <th>9</th>\n",
       "      <td>cnn</td>\n",
       "      <td>0.60</td>\n",
       "    </tr>\n",
       "  </tbody>\n",
       "</table>\n",
       "</div>"
      ],
      "text/plain": [
       "                    model  test_accurancy\n",
       "0                    k-NN            0.94\n",
       "1   logistic without reg.            0.96\n",
       "2      logistic with reg.            0.94\n",
       "3  decision tree with PCA            0.90\n",
       "4           random forest            0.96\n",
       "5              svm linear            0.92\n",
       "6                 svm rbf            0.96\n",
       "7              1-layer nn            0.94\n",
       "8              2-layer nn            0.94\n",
       "9                     cnn            0.60"
      ]
     },
     "execution_count": 4,
     "metadata": {},
     "output_type": "execute_result"
    }
   ],
   "source": [
    "import pandas as pd\n",
    "import numpy as np\n",
    "\n",
    "data={'model':['k-NN','logistic without reg.', 'logistic with reg.', 'decision tree with PCA','random forest', \n",
    "               'svm linear', 'svm rbf', '1-layer nn', '2-layer nn', 'cnn', ],\n",
    "      'test_accurancy':[0.94, 0.96, 0.94, 0.90, 0.96, \n",
    "                        0.92, 0.96, 0.94, 0.94, 0.60]}\n",
    "\n",
    "df=pd.DataFrame(data)\n",
    "\n",
    "df #print the dataframe"
   ]
  },
  {
   "cell_type": "markdown",
   "id": "3c87e9df-c987-4f44-bde4-dab9990167f0",
   "metadata": {},
   "source": [
    "## Task 2: Accuracy Visualization\n",
    "Include a final visualization which summarizes the test accuracy of all of the models from above. For instance, you could use a bar chart."
   ]
  },
  {
   "cell_type": "code",
   "execution_count": 2,
   "id": "8e11a95f-92a2-4cab-a160-cc7607ad8573",
   "metadata": {},
   "outputs": [
    {
     "data": {
      "image/png": "[encoded data removed]",
      "text/plain": [
       "<Figure size 864x432 with 1 Axes>"
      ]
     },
     "metadata": {
      "needs_background": "light"
     },
     "output_type": "display_data"
    }
   ],
   "source": [
    "import matplotlib.pyplot as plt\n",
    "\n",
    "# Visualizing performance metric of each model\n",
    "plt.figure(figsize=(12, 6))\n",
    "plt.title(\"Model Performance\")\n",
    "plt.bar(df.model, df.test_accurancy)\n",
    "plt.ylim(0, 1)\n",
    "plt.xticks(rotation=90)\n",
    "for i, s in enumerate(np.array(df.test_accurancy).round(2)):\n",
    "    plt.text(i - 0.2, s - 0.05, s)"
   ]
  },
  {
   "cell_type": "code",
   "execution_count": null,
   "id": "e8f190c8-5489-4e82-b98c-6cf530d9bf8b",
   "metadata": {},
   "outputs": [],
   "source": []
  }
 ],
 "metadata": {
  "kernelspec": {
   "display_name": "Python 3 (ipykernel)",
   "language": "python",
   "name": "python3"
  },
  "language_info": {
   "codemirror_mode": {
    "name": "ipython",
    "version": 3
   },
   "file_extension": ".py",
   "mimetype": "text/x-python",
   "name": "python",
   "nbconvert_exporter": "python",
   "pygments_lexer": "ipython3",
   "version": "3.9.7"
  }
 },
 "nbformat": 4,
 "nbformat_minor": 5
}
