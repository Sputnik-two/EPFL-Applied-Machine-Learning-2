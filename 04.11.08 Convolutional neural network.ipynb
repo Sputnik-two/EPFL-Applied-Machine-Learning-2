{
 "cells": [
  {
   "cell_type": "markdown",
   "id": "441bff23-5d88-4e88-9898-97d50230ed33",
   "metadata": {},
   "source": [
    "# 4.11.08 Convolutional neural network"
   ]
  },
  {
   "cell_type": "markdown",
   "id": "2cc83c81-e4e7-4030-97bf-83d6fb97e8cc",
   "metadata": {},
   "source": [
    "## Task 1: ConvNet with original images\n",
    "You tested different models with the set of high-level features extracted from a pretrained neural network. However, can you get similar results by creating a ConvNet from scratch and using the pixel values from the original images to train the model?\n",
    "\n",
    "* What accuracy can you achieve?\n",
    "* Can you get good results? - If not, why?\n"
   ]
  },
  {
   "cell_type": "code",
   "execution_count": 23,
   "id": "b298445b-efcb-4b54-9eea-94a21d902d85",
   "metadata": {},
   "outputs": [],
   "source": [
    "# import command\n",
    "import numpy as np\n",
    "import pandas as pd"
   ]
  },
  {
   "cell_type": "markdown",
   "id": "51636452-0b2d-44d1-9a7c-44699db698d7",
   "metadata": {},
   "source": [
    "_Consideration: The number of samples is small, therefore overfitting is likely to occur. With data augmentation I try provide additional images . I applied 45 degree rotation, width shift, height shift, horizontal flip and zoom augmentation to the training images._"
   ]
  },
  {
   "cell_type": "code",
   "execution_count": 24,
   "id": "c709b1d9-a044-49d5-8d54-8617b0436c69",
   "metadata": {},
   "outputs": [],
   "source": [
    "from tensorflow.keras.preprocessing.image import ImageDataGenerator\n",
    "\n",
    "# apply data augmentation to improve overfitting\n",
    "train_generator = ImageDataGenerator(\n",
    "                    rescale=1./255,\n",
    "                    rotation_range=45,\n",
    "                    width_shift_range=.15,\n",
    "                    height_shift_range=.15,\n",
    "                    horizontal_flip=True,\n",
    "                    zoom_range=0.5,\n",
    "                    fill_mode='nearest')\n",
    "\n",
    "\n",
    "validation_generator = ImageDataGenerator(rescale=1./255) \n",
    "test_generator = ImageDataGenerator(rescale=1./255)"
   ]
  },
  {
   "cell_type": "code",
   "execution_count": 27,
   "id": "27d1a505-b50f-4ee0-a18d-af76f8698498",
   "metadata": {},
   "outputs": [
    {
     "name": "stdout",
     "output_type": "stream",
     "text": [
      "Found 280 images belonging to 6 classes.\n",
      "Found 139 images belonging to 6 classes.\n",
      "Found 50 images belonging to 6 classes.\n"
     ]
    }
   ],
   "source": [
    "# import command\n",
    "import os\n",
    "\n",
    "# Train, validation and test sets\n",
    "trainset = train_generator.flow_from_directory(\n",
    "    os.path.join(\"resources/swissroads\", \"train\"),\n",
    "    target_size=(224, 224),\n",
    "    color_mode=\"rgb\",\n",
    "    batch_size= 280,\n",
    "    class_mode = 'sparse',\n",
    "    shuffle=True)\n",
    "\n",
    "validset = validation_generator.flow_from_directory(\n",
    "    os.path.join(\"resources/swissroads\", \"valid\"),\n",
    "    target_size=(224, 224),\n",
    "    color_mode=\"rgb\",\n",
    "    batch_size= 139,\n",
    "    class_mode = 'sparse',\n",
    "    shuffle=True)\n",
    "\n",
    "testset = test_generator.flow_from_directory(\n",
    "    os.path.join(\"resources/swissroads\", \"test\"), \n",
    "    target_size=(224, 224), \n",
    "    color_mode=\"rgb\",\n",
    "    batch_size= 50,\n",
    "    class_mode = 'sparse',\n",
    "    shuffle=True)\n"
   ]
  },
  {
   "cell_type": "code",
   "execution_count": 28,
   "id": "8ff66934-c9ca-4de2-a31f-f2d214971c1c",
   "metadata": {},
   "outputs": [
    {
     "name": "stdout",
     "output_type": "stream",
     "text": [
      "Model: \"sequential_6\"\n",
      "_________________________________________________________________\n",
      " Layer (type)                Output Shape              Param #   \n",
      "=================================================================\n",
      " conv2d_14 (Conv2D)          (None, 110, 110, 64)      4864      \n",
      "                                                                 \n",
      " max_pooling2d_14 (MaxPoolin  (None, 55, 55, 64)       0         \n",
      " g2D)                                                            \n",
      "                                                                 \n",
      " conv2d_15 (Conv2D)          (None, 53, 53, 64)        36928     \n",
      "                                                                 \n",
      " max_pooling2d_15 (MaxPoolin  (None, 26, 26, 64)       0         \n",
      " g2D)                                                            \n",
      "                                                                 \n",
      " flatten_5 (Flatten)         (None, 43264)             0         \n",
      "                                                                 \n",
      " dense_8 (Dense)             (None, 6)                 259590    \n",
      "                                                                 \n",
      "=================================================================\n",
      "Total params: 301,382\n",
      "Trainable params: 301,382\n",
      "Non-trainable params: 0\n",
      "_________________________________________________________________\n"
     ]
    }
   ],
   "source": [
    "import tensorflow.keras as keras\n",
    "\n",
    "# Convolutional Network\n",
    "model = keras.Sequential()\n",
    "\n",
    "# Convolutional layer & Max pooling layer\n",
    "model.add(keras.layers.Conv2D(filters=64, kernel_size=5, strides=2, activation=\"relu\", input_shape=(224, 224, 3)))\n",
    "model.add(keras.layers.MaxPool2D(pool_size=2))\n",
    "\n",
    "# 2nd convolutional layer & Max pooling layer\n",
    "model.add(keras.layers.Conv2D(filters=64, kernel_size=3, strides=1, activation=\"relu\"))\n",
    "model.add(keras.layers.MaxPool2D(pool_size=2))\n",
    "\n",
    "# Flatten layer\n",
    "model.add(keras.layers.Flatten())\n",
    "\n",
    "# Output layer\n",
    "model.add(keras.layers.Dense(units=trainset.num_classes, activation=\"softmax\"))\n",
    "\n",
    "#summary\n",
    "model.summary()"
   ]
  },
  {
   "cell_type": "code",
   "execution_count": 29,
   "id": "d623c3fe-fc3a-4ba6-94c2-6cc73f27d1a6",
   "metadata": {},
   "outputs": [],
   "source": [
    "# Compile the model\n",
    "model.compile(optimizer=keras.optimizers.Adam(), \n",
    "              loss=\"sparse_categorical_crossentropy\", \n",
    "              metrics=[\"acc\"])"
   ]
  },
  {
   "cell_type": "code",
   "execution_count": 30,
   "id": "39096851-5e14-4bd6-a2ec-cf9561e1111d",
   "metadata": {},
   "outputs": [],
   "source": [
    "# End training when accuracy stops improving\n",
    "early_stopping = keras.callbacks.EarlyStopping(monitor=\"val_loss\", patience=6, verbose=1)"
   ]
  },
  {
   "cell_type": "code",
   "execution_count": 31,
   "id": "a0e4a66a-50e9-49b7-a8db-01811c83838d",
   "metadata": {},
   "outputs": [
    {
     "name": "stdout",
     "output_type": "stream",
     "text": [
      "Epoch 1/100\n",
      "1/1 [==============================] - 21s 21s/step - loss: 1.7807 - acc: 0.2143 - val_loss: 3.3203 - val_acc: 0.2374\n",
      "Epoch 2/100\n",
      "1/1 [==============================] - 20s 20s/step - loss: 3.1758 - acc: 0.2321 - val_loss: 1.9637 - val_acc: 0.2734\n",
      "Epoch 3/100\n",
      "1/1 [==============================] - 14s 14s/step - loss: 1.9326 - acc: 0.2893 - val_loss: 1.8034 - val_acc: 0.1511\n",
      "Epoch 4/100\n",
      "1/1 [==============================] - 12s 12s/step - loss: 1.8085 - acc: 0.1500 - val_loss: 1.9087 - val_acc: 0.1511\n",
      "Epoch 5/100\n",
      "1/1 [==============================] - 12s 12s/step - loss: 1.9064 - acc: 0.1500 - val_loss: 1.8592 - val_acc: 0.1511\n",
      "Epoch 6/100\n",
      "1/1 [==============================] - 19s 19s/step - loss: 1.8573 - acc: 0.1500 - val_loss: 1.7914 - val_acc: 0.1511\n",
      "Epoch 7/100\n",
      "1/1 [==============================] - 12s 12s/step - loss: 1.7889 - acc: 0.1500 - val_loss: 1.7602 - val_acc: 0.2446\n",
      "Epoch 8/100\n",
      "1/1 [==============================] - 17s 17s/step - loss: 1.7566 - acc: 0.2250 - val_loss: 1.7716 - val_acc: 0.2302\n",
      "Epoch 9/100\n",
      "1/1 [==============================] - 14s 14s/step - loss: 1.7638 - acc: 0.2286 - val_loss: 1.7559 - val_acc: 0.2302\n",
      "Epoch 10/100\n",
      "1/1 [==============================] - 19s 19s/step - loss: 1.7534 - acc: 0.2286 - val_loss: 1.7325 - val_acc: 0.2734\n",
      "Epoch 11/100\n",
      "1/1 [==============================] - 15s 15s/step - loss: 1.7356 - acc: 0.2607 - val_loss: 1.7171 - val_acc: 0.2446\n",
      "Epoch 12/100\n",
      "1/1 [==============================] - 17s 17s/step - loss: 1.7258 - acc: 0.2429 - val_loss: 1.7062 - val_acc: 0.2446\n",
      "Epoch 13/100\n",
      "1/1 [==============================] - 14s 14s/step - loss: 1.7189 - acc: 0.2500 - val_loss: 1.6994 - val_acc: 0.3237\n",
      "Epoch 14/100\n",
      "1/1 [==============================] - 20s 20s/step - loss: 1.7149 - acc: 0.2857 - val_loss: 1.6931 - val_acc: 0.3309\n",
      "Epoch 15/100\n",
      "1/1 [==============================] - 14s 14s/step - loss: 1.7088 - acc: 0.3214 - val_loss: 1.6828 - val_acc: 0.3094\n",
      "Epoch 16/100\n",
      "1/1 [==============================] - 20s 20s/step - loss: 1.6967 - acc: 0.3214 - val_loss: 1.6639 - val_acc: 0.3381\n",
      "Epoch 17/100\n",
      "1/1 [==============================] - 16s 16s/step - loss: 1.6861 - acc: 0.3143 - val_loss: 1.6491 - val_acc: 0.3741\n",
      "Epoch 18/100\n",
      "1/1 [==============================] - 21s 21s/step - loss: 1.6879 - acc: 0.3000 - val_loss: 1.6344 - val_acc: 0.3741\n",
      "Epoch 19/100\n",
      "1/1 [==============================] - 15s 15s/step - loss: 1.6729 - acc: 0.3357 - val_loss: 1.6166 - val_acc: 0.3525\n",
      "Epoch 20/100\n",
      "1/1 [==============================] - 23s 23s/step - loss: 1.6480 - acc: 0.3429 - val_loss: 1.6005 - val_acc: 0.3741\n",
      "Epoch 21/100\n",
      "1/1 [==============================] - 15s 15s/step - loss: 1.6600 - acc: 0.3679 - val_loss: 1.5749 - val_acc: 0.4245\n",
      "Epoch 22/100\n",
      "1/1 [==============================] - 16s 16s/step - loss: 1.6354 - acc: 0.4036 - val_loss: 1.5523 - val_acc: 0.4388\n",
      "Epoch 23/100\n",
      "1/1 [==============================] - 16s 16s/step - loss: 1.6262 - acc: 0.3607 - val_loss: 1.5364 - val_acc: 0.4173\n",
      "Epoch 24/100\n",
      "1/1 [==============================] - 14s 14s/step - loss: 1.6080 - acc: 0.3536 - val_loss: 1.5077 - val_acc: 0.4029\n",
      "Epoch 25/100\n",
      "1/1 [==============================] - 16s 16s/step - loss: 1.5918 - acc: 0.3893 - val_loss: 1.4841 - val_acc: 0.4388\n",
      "Epoch 26/100\n",
      "1/1 [==============================] - 25s 25s/step - loss: 1.5812 - acc: 0.3893 - val_loss: 1.4639 - val_acc: 0.4388\n",
      "Epoch 27/100\n",
      "1/1 [==============================] - 22s 22s/step - loss: 1.5494 - acc: 0.3929 - val_loss: 1.4741 - val_acc: 0.4173\n",
      "Epoch 28/100\n",
      "1/1 [==============================] - 16s 16s/step - loss: 1.5933 - acc: 0.3750 - val_loss: 1.4181 - val_acc: 0.4676\n",
      "Epoch 29/100\n",
      "1/1 [==============================] - 20s 20s/step - loss: 1.5788 - acc: 0.3786 - val_loss: 1.4158 - val_acc: 0.4604\n",
      "Epoch 30/100\n",
      "1/1 [==============================] - 14s 14s/step - loss: 1.5508 - acc: 0.3821 - val_loss: 1.4452 - val_acc: 0.4101\n",
      "Epoch 31/100\n",
      "1/1 [==============================] - 13s 13s/step - loss: 1.5447 - acc: 0.4179 - val_loss: 1.3877 - val_acc: 0.4532\n",
      "Epoch 32/100\n",
      "1/1 [==============================] - 25s 25s/step - loss: 1.5610 - acc: 0.3679 - val_loss: 1.3740 - val_acc: 0.4604\n",
      "Epoch 33/100\n",
      "1/1 [==============================] - 20s 20s/step - loss: 1.5383 - acc: 0.3750 - val_loss: 1.3869 - val_acc: 0.4604\n",
      "Epoch 34/100\n",
      "1/1 [==============================] - 28s 28s/step - loss: 1.5155 - acc: 0.4071 - val_loss: 1.3989 - val_acc: 0.4748\n",
      "Epoch 35/100\n",
      "1/1 [==============================] - 12s 12s/step - loss: 1.5121 - acc: 0.4250 - val_loss: 1.3725 - val_acc: 0.4604\n",
      "Epoch 36/100\n",
      "1/1 [==============================] - 12s 12s/step - loss: 1.5034 - acc: 0.4321 - val_loss: 1.3395 - val_acc: 0.4604\n",
      "Epoch 37/100\n",
      "1/1 [==============================] - 12s 12s/step - loss: 1.4981 - acc: 0.4429 - val_loss: 1.3345 - val_acc: 0.4892\n",
      "Epoch 38/100\n",
      "1/1 [==============================] - 11s 11s/step - loss: 1.5281 - acc: 0.3893 - val_loss: 1.3624 - val_acc: 0.4964\n",
      "Epoch 39/100\n",
      "1/1 [==============================] - 11s 11s/step - loss: 1.4753 - acc: 0.4321 - val_loss: 1.3486 - val_acc: 0.4892\n",
      "Epoch 40/100\n",
      "1/1 [==============================] - 11s 11s/step - loss: 1.4603 - acc: 0.4214 - val_loss: 1.3061 - val_acc: 0.5036\n",
      "Epoch 41/100\n",
      "1/1 [==============================] - 12s 12s/step - loss: 1.4152 - acc: 0.4893 - val_loss: 1.2930 - val_acc: 0.4892\n",
      "Epoch 42/100\n",
      "1/1 [==============================] - 11s 11s/step - loss: 1.4674 - acc: 0.4357 - val_loss: 1.3024 - val_acc: 0.5036\n",
      "Epoch 43/100\n",
      "1/1 [==============================] - 11s 11s/step - loss: 1.4271 - acc: 0.4250 - val_loss: 1.3115 - val_acc: 0.5396\n",
      "Epoch 44/100\n",
      "1/1 [==============================] - 11s 11s/step - loss: 1.4327 - acc: 0.4750 - val_loss: 1.2828 - val_acc: 0.5252\n",
      "Epoch 45/100\n",
      "1/1 [==============================] - 11s 11s/step - loss: 1.4477 - acc: 0.4357 - val_loss: 1.2620 - val_acc: 0.5324\n",
      "Epoch 46/100\n",
      "1/1 [==============================] - 11s 11s/step - loss: 1.4276 - acc: 0.4607 - val_loss: 1.2548 - val_acc: 0.5180\n",
      "Epoch 47/100\n",
      "1/1 [==============================] - 11s 11s/step - loss: 1.4314 - acc: 0.4357 - val_loss: 1.2339 - val_acc: 0.5971\n",
      "Epoch 48/100\n",
      "1/1 [==============================] - 11s 11s/step - loss: 1.4300 - acc: 0.4643 - val_loss: 1.2217 - val_acc: 0.5540\n",
      "Epoch 49/100\n",
      "1/1 [==============================] - 11s 11s/step - loss: 1.4223 - acc: 0.4536 - val_loss: 1.2301 - val_acc: 0.5755\n",
      "Epoch 50/100\n",
      "1/1 [==============================] - 14s 14s/step - loss: 1.4044 - acc: 0.4857 - val_loss: 1.2381 - val_acc: 0.5540\n",
      "Epoch 51/100\n",
      "1/1 [==============================] - 11s 11s/step - loss: 1.4322 - acc: 0.4071 - val_loss: 1.1983 - val_acc: 0.5827\n",
      "Epoch 52/100\n",
      "1/1 [==============================] - 12s 12s/step - loss: 1.3570 - acc: 0.4857 - val_loss: 1.1883 - val_acc: 0.6115\n",
      "Epoch 53/100\n",
      "1/1 [==============================] - 11s 11s/step - loss: 1.3529 - acc: 0.4714 - val_loss: 1.1807 - val_acc: 0.6115\n",
      "Epoch 54/100\n",
      "1/1 [==============================] - 11s 11s/step - loss: 1.3156 - acc: 0.5286 - val_loss: 1.1983 - val_acc: 0.6115\n",
      "Epoch 55/100\n",
      "1/1 [==============================] - 11s 11s/step - loss: 1.3869 - acc: 0.4821 - val_loss: 1.1675 - val_acc: 0.5899\n",
      "Epoch 56/100\n",
      "1/1 [==============================] - 11s 11s/step - loss: 1.3471 - acc: 0.4893 - val_loss: 1.2312 - val_acc: 0.5755\n",
      "Epoch 57/100\n",
      "1/1 [==============================] - 11s 11s/step - loss: 1.3478 - acc: 0.4893 - val_loss: 1.1403 - val_acc: 0.6259\n",
      "Epoch 58/100\n",
      "1/1 [==============================] - 12s 12s/step - loss: 1.2507 - acc: 0.5250 - val_loss: 1.1390 - val_acc: 0.5971\n",
      "Epoch 59/100\n",
      "1/1 [==============================] - 12s 12s/step - loss: 1.3239 - acc: 0.4821 - val_loss: 1.1530 - val_acc: 0.6403\n",
      "Epoch 60/100\n",
      "1/1 [==============================] - 11s 11s/step - loss: 1.3345 - acc: 0.4821 - val_loss: 1.1442 - val_acc: 0.6043\n",
      "Epoch 61/100\n",
      "1/1 [==============================] - 11s 11s/step - loss: 1.3301 - acc: 0.5107 - val_loss: 1.1177 - val_acc: 0.6259\n",
      "Epoch 62/100\n",
      "1/1 [==============================] - 11s 11s/step - loss: 1.2933 - acc: 0.4750 - val_loss: 1.1082 - val_acc: 0.6331\n",
      "Epoch 63/100\n",
      "1/1 [==============================] - 11s 11s/step - loss: 1.3071 - acc: 0.4893 - val_loss: 1.1749 - val_acc: 0.6547\n",
      "Epoch 64/100\n",
      "1/1 [==============================] - 11s 11s/step - loss: 1.3308 - acc: 0.5143 - val_loss: 1.1369 - val_acc: 0.6403\n",
      "Epoch 65/100\n",
      "1/1 [==============================] - 12s 12s/step - loss: 1.2541 - acc: 0.5500 - val_loss: 1.1027 - val_acc: 0.6259\n",
      "Epoch 66/100\n",
      "1/1 [==============================] - 11s 11s/step - loss: 1.3132 - acc: 0.4786 - val_loss: 1.0992 - val_acc: 0.6403\n",
      "Epoch 67/100\n",
      "1/1 [==============================] - 12s 12s/step - loss: 1.3393 - acc: 0.4929 - val_loss: 1.1353 - val_acc: 0.6115\n",
      "Epoch 68/100\n",
      "1/1 [==============================] - 12s 12s/step - loss: 1.2729 - acc: 0.5107 - val_loss: 1.1035 - val_acc: 0.6403\n",
      "Epoch 69/100\n",
      "1/1 [==============================] - 12s 12s/step - loss: 1.2623 - acc: 0.5214 - val_loss: 1.0962 - val_acc: 0.6115\n",
      "Epoch 70/100\n",
      "1/1 [==============================] - 11s 11s/step - loss: 1.2941 - acc: 0.4750 - val_loss: 1.0788 - val_acc: 0.6619\n",
      "Epoch 71/100\n",
      "1/1 [==============================] - 18s 18s/step - loss: 1.2733 - acc: 0.5357 - val_loss: 1.0948 - val_acc: 0.6259\n",
      "Epoch 72/100\n",
      "1/1 [==============================] - 11s 11s/step - loss: 1.2815 - acc: 0.5464 - val_loss: 1.0889 - val_acc: 0.6259\n",
      "Epoch 73/100\n",
      "1/1 [==============================] - 12s 12s/step - loss: 1.1886 - acc: 0.5143 - val_loss: 1.0566 - val_acc: 0.6619\n",
      "Epoch 74/100\n",
      "1/1 [==============================] - 13s 13s/step - loss: 1.2277 - acc: 0.5036 - val_loss: 1.0633 - val_acc: 0.6619\n",
      "Epoch 75/100\n",
      "1/1 [==============================] - 16s 16s/step - loss: 1.3010 - acc: 0.5107 - val_loss: 1.0932 - val_acc: 0.6763\n",
      "Epoch 76/100\n",
      "1/1 [==============================] - 15s 15s/step - loss: 1.2092 - acc: 0.5357 - val_loss: 1.1025 - val_acc: 0.6187\n",
      "Epoch 77/100\n",
      "1/1 [==============================] - 18s 18s/step - loss: 1.2334 - acc: 0.4964 - val_loss: 1.0810 - val_acc: 0.6331\n",
      "Epoch 78/100\n",
      "1/1 [==============================] - 15s 15s/step - loss: 1.2743 - acc: 0.5071 - val_loss: 1.0412 - val_acc: 0.6691\n",
      "Epoch 79/100\n",
      "1/1 [==============================] - 12s 12s/step - loss: 1.1903 - acc: 0.5286 - val_loss: 1.0657 - val_acc: 0.6403\n",
      "Epoch 80/100\n",
      "1/1 [==============================] - 11s 11s/step - loss: 1.2693 - acc: 0.5464 - val_loss: 1.0581 - val_acc: 0.6763\n",
      "Epoch 81/100\n",
      "1/1 [==============================] - 20s 20s/step - loss: 1.2554 - acc: 0.5464 - val_loss: 1.0612 - val_acc: 0.6331\n",
      "Epoch 82/100\n",
      "1/1 [==============================] - 16s 16s/step - loss: 1.2229 - acc: 0.5393 - val_loss: 1.0521 - val_acc: 0.6403\n",
      "Epoch 83/100\n",
      "1/1 [==============================] - 13s 13s/step - loss: 1.2097 - acc: 0.5536 - val_loss: 1.0226 - val_acc: 0.6547\n",
      "Epoch 84/100\n",
      "1/1 [==============================] - 13s 13s/step - loss: 1.2117 - acc: 0.5286 - val_loss: 1.0250 - val_acc: 0.6475\n",
      "Epoch 85/100\n",
      "1/1 [==============================] - 13s 13s/step - loss: 1.1519 - acc: 0.5821 - val_loss: 1.0123 - val_acc: 0.6619\n",
      "Epoch 86/100\n",
      "1/1 [==============================] - 12s 12s/step - loss: 1.2078 - acc: 0.5536 - val_loss: 1.0231 - val_acc: 0.6691\n",
      "Epoch 87/100\n",
      "1/1 [==============================] - 12s 12s/step - loss: 1.1734 - acc: 0.5393 - val_loss: 1.0258 - val_acc: 0.6475\n",
      "Epoch 88/100\n",
      "1/1 [==============================] - 13s 13s/step - loss: 1.1674 - acc: 0.5250 - val_loss: 1.0469 - val_acc: 0.6691\n",
      "Epoch 89/100\n",
      "1/1 [==============================] - 13s 13s/step - loss: 1.2060 - acc: 0.5250 - val_loss: 1.0271 - val_acc: 0.6403\n",
      "Epoch 90/100\n",
      "1/1 [==============================] - 16s 16s/step - loss: 1.1715 - acc: 0.5536 - val_loss: 1.0371 - val_acc: 0.6115\n",
      "Epoch 91/100\n",
      "1/1 [==============================] - 14s 14s/step - loss: 1.1817 - acc: 0.5714 - val_loss: 1.0464 - val_acc: 0.6331\n",
      "Epoch 91: early stopping\n"
     ]
    }
   ],
   "source": [
    "# Train model\n",
    "history = model.fit(\n",
    "    trainset, validation_data=validset, epochs=100, callbacks=[early_stopping]\n",
    ")"
   ]
  },
  {
   "cell_type": "markdown",
   "id": "e959b1ba-caca-4738-8cad-1b4c207ef7b9",
   "metadata": {},
   "source": [
    "### Loss and accuracy curves"
   ]
  },
  {
   "cell_type": "code",
   "execution_count": 33,
   "id": "3a8fcaad-ae3d-47aa-b6fb-53775336467b",
   "metadata": {},
   "outputs": [
    {
     "data": {
      "image/png": "[encoded data removed]",
      "text/plain": [
       "<Figure size 864x288 with 2 Axes>"
      ]
     },
     "metadata": {
      "needs_background": "light"
     },
     "output_type": "display_data"
    }
   ],
   "source": [
    "# import command\n",
    "%matplotlib inline\n",
    "import matplotlib.pyplot as plt\n",
    "\n",
    "fig, (ax1, ax2) = plt.subplots(nrows=1, ncols=2, figsize=(12, 4))\n",
    "\n",
    "# Plot loss values\n",
    "ax1.set_title(\"loss: {:.3f} (mean last 3)\".format(np.mean(history.history[\"val_loss\"][-3:])))\n",
    "ax1.plot(history.history[\"loss\"], label=\"training\")\n",
    "ax1.plot(history.history[\"val_loss\"], label=\"validation\")\n",
    "ax1.legend()\n",
    "\n",
    "# plot accuracy values\n",
    "ax2.set_title(\"accuracy: {:.2f} (mean last 3)\".format(np.mean(history.history[\"val_acc\"][-3:])))\n",
    "ax2.plot(history.history[\"acc\"], label=\"training\")\n",
    "ax2.plot(history.history[\"val_acc\"], label=\"validation\")\n",
    "ax2.legend()\n",
    "\n",
    "plt.show()"
   ]
  },
  {
   "cell_type": "markdown",
   "id": "f0c6de6a-f6e6-499e-a25d-bc1f03b6ca30",
   "metadata": {},
   "source": [
    "_Observation: The accuracy curves are both increasing, but they have a drop at around epoche 3 to 6. The loss curves decrease strongly at the beginning and continue to decrease continuely._"
   ]
  },
  {
   "cell_type": "markdown",
   "id": "90ef68b7-9ac4-4411-ab23-d106d82acb50",
   "metadata": {},
   "source": [
    "### Confusion matrix"
   ]
  },
  {
   "cell_type": "code",
   "execution_count": 34,
   "id": "a9934bf2-aea4-437e-ad82-35a66a42a74b",
   "metadata": {},
   "outputs": [
    {
     "name": "stdout",
     "output_type": "stream",
     "text": [
      "1/1 [==============================] - 1s 561ms/step\n",
      "Predictions: (50, 6)\n"
     ]
    }
   ],
   "source": [
    "test_preds = model.predict(testset)\n",
    "print(\"Predictions:\", test_preds.shape)"
   ]
  },
  {
   "cell_type": "code",
   "execution_count": 35,
   "id": "70040733-7e4c-48d2-86da-21b0693c9670",
   "metadata": {},
   "outputs": [
    {
     "data": {
      "text/html": [
       "<div>\n",
       "<style scoped>\n",
       "    .dataframe tbody tr th:only-of-type {\n",
       "        vertical-align: middle;\n",
       "    }\n",
       "\n",
       "    .dataframe tbody tr th {\n",
       "        vertical-align: top;\n",
       "    }\n",
       "\n",
       "    .dataframe thead th {\n",
       "        text-align: right;\n",
       "    }\n",
       "</style>\n",
       "<table border=\"1\" class=\"dataframe\">\n",
       "  <thead>\n",
       "    <tr style=\"text-align: right;\">\n",
       "      <th>Predictions</th>\n",
       "      <th>bike</th>\n",
       "      <th>car</th>\n",
       "      <th>motorcycle</th>\n",
       "      <th>other</th>\n",
       "      <th>truck</th>\n",
       "      <th>van</th>\n",
       "    </tr>\n",
       "    <tr>\n",
       "      <th>True class</th>\n",
       "      <th></th>\n",
       "      <th></th>\n",
       "      <th></th>\n",
       "      <th></th>\n",
       "      <th></th>\n",
       "      <th></th>\n",
       "    </tr>\n",
       "  </thead>\n",
       "  <tbody>\n",
       "    <tr>\n",
       "      <th>bike</th>\n",
       "      <td>2</td>\n",
       "      <td>6</td>\n",
       "      <td>2</td>\n",
       "      <td>0</td>\n",
       "      <td>1</td>\n",
       "      <td>1</td>\n",
       "    </tr>\n",
       "    <tr>\n",
       "      <th>car</th>\n",
       "      <td>2</td>\n",
       "      <td>5</td>\n",
       "      <td>4</td>\n",
       "      <td>0</td>\n",
       "      <td>0</td>\n",
       "      <td>0</td>\n",
       "    </tr>\n",
       "    <tr>\n",
       "      <th>motorcycle</th>\n",
       "      <td>2</td>\n",
       "      <td>1</td>\n",
       "      <td>3</td>\n",
       "      <td>2</td>\n",
       "      <td>1</td>\n",
       "      <td>0</td>\n",
       "    </tr>\n",
       "    <tr>\n",
       "      <th>other</th>\n",
       "      <td>0</td>\n",
       "      <td>2</td>\n",
       "      <td>0</td>\n",
       "      <td>0</td>\n",
       "      <td>3</td>\n",
       "      <td>1</td>\n",
       "    </tr>\n",
       "    <tr>\n",
       "      <th>truck</th>\n",
       "      <td>1</td>\n",
       "      <td>2</td>\n",
       "      <td>4</td>\n",
       "      <td>0</td>\n",
       "      <td>0</td>\n",
       "      <td>0</td>\n",
       "    </tr>\n",
       "    <tr>\n",
       "      <th>van</th>\n",
       "      <td>1</td>\n",
       "      <td>3</td>\n",
       "      <td>1</td>\n",
       "      <td>0</td>\n",
       "      <td>0</td>\n",
       "      <td>0</td>\n",
       "    </tr>\n",
       "  </tbody>\n",
       "</table>\n",
       "</div>"
      ],
      "text/plain": [
       "Predictions  bike  car  motorcycle  other  truck  van\n",
       "True class                                           \n",
       "bike            2    6           2      0      1    1\n",
       "car             2    5           4      0      0    0\n",
       "motorcycle      2    1           3      2      1    0\n",
       "other           0    2           0      0      3    1\n",
       "truck           1    2           4      0      0    0\n",
       "van             1    3           1      0      0    0"
      ]
     },
     "execution_count": 35,
     "metadata": {},
     "output_type": "execute_result"
    }
   ],
   "source": [
    "from sklearn.metrics import confusion_matrix\n",
    "import pandas as pd\n",
    "\n",
    "# Compute confusion matrix\n",
    "matrix = confusion_matrix(\n",
    "    y_true=testset.classes,  # array with true labels\n",
    "    y_pred=test_preds.argmax(axis=1),  # array with predicted labels\n",
    ")\n",
    "\n",
    "# Format as a DataFrame\n",
    "class_names = list(testset.class_indices.keys())\n",
    "matrix_df = pd.DataFrame(data=matrix, columns=class_names, index=class_names)\n",
    "matrix_df.columns.name = \"Predictions\"\n",
    "matrix_df.index.name = \"True class\"\n",
    "matrix_df"
   ]
  },
  {
   "cell_type": "code",
   "execution_count": 36,
   "id": "15770c98-f137-45c3-b31a-e3220e4405e2",
   "metadata": {},
   "outputs": [
    {
     "name": "stdout",
     "output_type": "stream",
     "text": [
      "1/1 [==============================] - 0s 494ms/step - loss: 1.1180 - acc: 0.6000\n",
      "Test loss: 1.12, accuracy: 60.00%\n"
     ]
    }
   ],
   "source": [
    "test_loss, test_acurracy = model.evaluate(testset)\n",
    "print(\"Test loss: {:.2f}, accuracy: {:.2f}%\".format(test_loss, test_acurracy * 100))"
   ]
  },
  {
   "cell_type": "markdown",
   "id": "f7272e66-b738-4bd4-a8d6-bc40ff5ce3fc",
   "metadata": {},
   "source": [
    "_Observation: The CNN model has a lower accuracy than the other model. To achieve better results, I would have to tunne the hyperparameters and improve the network design. A greater amount of training data would be helpful. Another reason why the results is not good, is that the model is based on the images themselves and not on the high-level features._"
   ]
  }
 ],
 "metadata": {
  "kernelspec": {
   "display_name": "Python 3 (ipykernel)",
   "language": "python",
   "name": "python3"
  },
  "language_info": {
   "codemirror_mode": {
    "name": "ipython",
    "version": 3
   },
   "file_extension": ".py",
   "mimetype": "text/x-python",
   "name": "python",
   "nbconvert_exporter": "python",
   "pygments_lexer": "ipython3",
   "version": "3.9.7"
  }
 },
 "nbformat": 4,
 "nbformat_minor": 5
}
